{
 "cells": [
  {
   "cell_type": "code",
   "execution_count": 1,
   "metadata": {},
   "outputs": [],
   "source": [
    "import pandas as pd\n",
    "import numpy as np\n",
    "import nltk\n",
    "import re\n",
    "from nltk.stem import WordNetLemmatizer\n",
    "from nltk.corpus import stopwords\n",
    "import pickle\n",
    "\n",
    "### text preprocessing\n",
    "lemmatizer=WordNetLemmatizer()\n",
    "def tprep(text):\n",
    "    remove=re.sub('[^a-zA-Z]',' ',text)\n",
    "    remove=remove.lower()\n",
    "    words=remove.split()\n",
    "    lemma_words=[lemmatizer.lemmatize(wrd) for wrd in words if wrd not in set(stopwords.words(\"english\"))]\n",
    "    text_prep= [' '.join(lemma_words)]\n",
    "    return text_prep"
   ]
  },
  {
   "cell_type": "code",
   "execution_count": 6,
   "metadata": {},
   "outputs": [],
   "source": [
    "text=\"offer free sale credit\"\n",
    "length_of_text= np.array(len(text))\n",
    "\n",
    "\n",
    "msg=tprep(text)\n",
    "loaded_vertorizer = pickle.load(open(\"vetorizer.pkl\", 'rb'))\n",
    "\n",
    "text_transform=loaded_vertorizer.transform(msg).toarray()\n",
    "\n",
    "        \n",
    "text_transform=np.append(text_transform,length_of_text) \n",
    "\n",
    "text_transform= text_transform.reshape(1,-1)\n",
    "\n",
    "\n"
   ]
  },
  {
   "cell_type": "code",
   "execution_count": 3,
   "metadata": {},
   "outputs": [
    {
     "data": {
      "text/plain": [
       "7022"
      ]
     },
     "execution_count": 3,
     "metadata": {},
     "output_type": "execute_result"
    }
   ],
   "source": [
    "text_transform.size"
   ]
  },
  {
   "cell_type": "code",
   "execution_count": 7,
   "metadata": {},
   "outputs": [
    {
     "name": "stdout",
     "output_type": "stream",
     "text": [
      "[1]\n"
     ]
    }
   ],
   "source": [
    "loaded_model = pickle.load(open(\"spam_clf_model.pkl\", 'rb'))\n",
    "result = loaded_model.predict(text_transform)\n",
    "\n",
    "print(result)"
   ]
  },
  {
   "cell_type": "code",
   "execution_count": 8,
   "metadata": {},
   "outputs": [
    {
     "name": "stdout",
     "output_type": "stream",
     "text": [
      "it is spam\n"
     ]
    }
   ],
   "source": [
    "if result==0:\n",
    "    print(\"it is ham\")\n",
    "else:\n",
    "    print(\"it is spam\")"
   ]
  },
  {
   "cell_type": "code",
   "execution_count": null,
   "metadata": {},
   "outputs": [],
   "source": []
  }
 ],
 "metadata": {
  "kernelspec": {
   "display_name": "Python 3",
   "language": "python",
   "name": "python3"
  },
  "language_info": {
   "codemirror_mode": {
    "name": "ipython",
    "version": 3
   },
   "file_extension": ".py",
   "mimetype": "text/x-python",
   "name": "python",
   "nbconvert_exporter": "python",
   "pygments_lexer": "ipython3",
   "version": "3.7.9"
  }
 },
 "nbformat": 4,
 "nbformat_minor": 4
}
